{
  "nbformat": 4,
  "nbformat_minor": 0,
  "metadata": {
    "colab": {
      "name": "Welcome To Colaboratory",
      "provenance": [],
      "collapsed_sections": []
    },
    "kernelspec": {
      "display_name": "Python 3",
      "name": "python3"
    }
  },
  "cells": [
    {
      "cell_type": "markdown",
      "metadata": {
        "id": "Z-zSZpuH1d9w",
        "colab_type": "text"
      },
      "source": [
        "1. List of the first 15 even numbers that are not divisible by 6"
      ]
    },
    {
      "cell_type": "code",
      "metadata": {
        "id": "OpJD_72gyjAN",
        "colab_type": "code",
        "colab": {
          "base_uri": "https://localhost:8080/",
          "height": 34
        },
        "outputId": "72ccca61-e2f6-429a-cc44-e93855b795cd"
      },
      "source": [
        "l = []\n",
        "x = 10\n",
        "count = 0\n",
        "while True:\n",
        "  if x % 6 != 0 and x % 2 == 0:\n",
        "    count = count + 1\n",
        "    l.append(x)\n",
        "  if count == 15:\n",
        "    break\n",
        "  x = x + 1\n",
        "\n",
        "print(l)"
      ],
      "execution_count": 28,
      "outputs": [
        {
          "output_type": "stream",
          "text": [
            "[10, 14, 16, 20, 22, 26, 28, 32, 34, 38, 40, 44, 46, 50, 52]\n"
          ],
          "name": "stdout"
        }
      ]
    },
    {
      "cell_type": "markdown",
      "metadata": {
        "id": "cgP91-sk3oi2",
        "colab_type": "text"
      },
      "source": [
        "2. Write a function to Check whether given two string is anagram or not\n"
      ]
    },
    {
      "cell_type": "code",
      "metadata": {
        "id": "pqwacDlh1rZ6",
        "colab_type": "code",
        "colab": {
          "base_uri": "https://localhost:8080/",
          "height": 68
        },
        "outputId": "f5edbf23-6e5d-412c-abf0-c60e55b7dbab"
      },
      "source": [
        "def anagram(str1,str2):\n",
        "  if(sorted(str1) == sorted(str2)):\n",
        "    print(\"\\tString are anagram\")\n",
        "  else:\n",
        "    print(\"\\tString are not anagram\")\n",
        "str1 = input(\"\\t First String: \")\n",
        "str2 = input(\"\\tSecond String: \")\n",
        "anagram(str1,str2)"
      ],
      "execution_count": 25,
      "outputs": [
        {
          "output_type": "stream",
          "text": [
            "\t First String: lol\n",
            "\tSecond String: LOL\n",
            "\tString are not anagram\n"
          ],
          "name": "stdout"
        }
      ]
    },
    {
      "cell_type": "markdown",
      "metadata": {
        "id": "jXiGldik33Mc",
        "colab_type": "text"
      },
      "source": [
        "3. Define a class which has at least two methods: getString: to get a string from console input printString: to print the string in upper case. Also please include simple test function to test the class methods."
      ]
    },
    {
      "cell_type": "code",
      "metadata": {
        "id": "h5McTL0d365N",
        "colab_type": "code",
        "colab": {
          "base_uri": "https://localhost:8080/",
          "height": 51
        },
        "outputId": "06430b3f-9c6f-4d1e-a42b-1dba8f983f06"
      },
      "source": [
        "  class myclass():\n",
        "      def get_str(self):\n",
        "          self.str1 = input()\n",
        "  \n",
        "      def print_str(self):\n",
        "          print(self.str1.upper())\n",
        "  \n",
        "  str1 = myclass()\n",
        "  str1.get_str()\n",
        "  str1.print_str()"
      ],
      "execution_count": 23,
      "outputs": [
        {
          "output_type": "stream",
          "text": [
            "lol\n",
            "LOL\n"
          ],
          "name": "stdout"
        }
      ]
    }
  ]
}