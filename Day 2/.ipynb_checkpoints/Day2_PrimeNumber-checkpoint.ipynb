{
 "cells": [
  {
   "cell_type": "markdown",
   "metadata": {},
   "source": [
    "# ~`~CHECK PRIME NUMBER USING FOR LOOP~`~"
   ]
  },
  {
   "cell_type": "markdown",
   "metadata": {},
   "source": [
    "# Check specific number"
   ]
  },
  {
   "cell_type": "code",
   "execution_count": 63,
   "metadata": {},
   "outputs": [
    {
     "name": "stdout",
     "output_type": "stream",
     "text": [
      "Enter Number:92\n",
      "92 is not prime number\n"
     ]
    }
   ],
   "source": [
    "num = int(input(\"Enter Number:\"))\n",
    "for i in range (2, num):\n",
    "        if num % i == 0:\n",
    "            print(num, \"is not prime number\")\n",
    "            break\n",
    "else:\n",
    "    print(num, \"is prime number\")\n"
   ]
  },
  {
   "cell_type": "markdown",
   "metadata": {},
   "source": [
    "# 1 to 100 using For Loop"
   ]
  },
  {
   "cell_type": "code",
   "execution_count": 38,
   "metadata": {
    "scrolled": true
   },
   "outputs": [
    {
     "name": "stdout",
     "output_type": "stream",
     "text": [
      " 2   3   5   7   11   13   17   19   23   29   31   37   41   43   47   53   59   61   67   71   73   79   83   89   97  "
     ]
    }
   ],
   "source": [
    "for num in range (1,101):\n",
    "    count = 0\n",
    "    for i in range (2,(num // 2 + 1)):\n",
    "        if (num % i == 0):\n",
    "            count = count + 1\n",
    "            break\n",
    "    if (count == 0 and num != 1):\n",
    "        print(\" %d \" %num, end = ' ')"
   ]
  },
  {
   "cell_type": "markdown",
   "metadata": {},
   "source": [
    "#  1 to N using For Loop"
   ]
  },
  {
   "cell_type": "code",
   "execution_count": 51,
   "metadata": {},
   "outputs": [
    {
     "name": "stdout",
     "output_type": "stream",
     "text": [
      "Enter MINIMUM value:1\n",
      "Enter MAXIMUM value:50\n",
      "2    3    5    7    11    13    17    19    23    29    31    37    41    43    47    "
     ]
    }
   ],
   "source": [
    "min = int(input(\"Enter MINIMUM value:\"))\n",
    "max = int(input(\"Enter MAXIMUM value:\"))\n",
    "for num in range(min, max + 1):\n",
    "    count = 0\n",
    "    for i in range(2, (num//2 + 1)):\n",
    "        if(num % i == 0):\n",
    "            count = count + 1\n",
    "            break\n",
    "\n",
    "    if (count == 0 and num != 1):\n",
    "        print(num, end='    ')"
   ]
  },
  {
   "cell_type": "code",
   "execution_count": null,
   "metadata": {},
   "outputs": [],
   "source": []
  }
 ],
 "metadata": {
  "kernelspec": {
   "display_name": "Python 3",
   "language": "python",
   "name": "python3"
  },
  "language_info": {
   "codemirror_mode": {
    "name": "ipython",
    "version": 3
   },
   "file_extension": ".py",
   "mimetype": "text/x-python",
   "name": "python",
   "nbconvert_exporter": "python",
   "pygments_lexer": "ipython3",
   "version": "3.7.6"
  }
 },
 "nbformat": 4,
 "nbformat_minor": 4
}
